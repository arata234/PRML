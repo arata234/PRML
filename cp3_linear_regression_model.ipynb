{
 "cells": [
  {
   "cell_type": "markdown",
   "metadata": {},
   "source": [
    "# Chapter3 線形回帰モデル"
   ]
  },
  {
   "cell_type": "markdown",
   "metadata": {},
   "source": [
    "回帰の目的は、連続する目的変数tの値を、D次元の入力変数ベクトルxの値に基づいて予測することである。\n",
    "\n",
    "線形回帰モデルは調整可能なパラメータの線形関数であり、最も単純な形式では入力変数の線形関数でもある。しかし、非線形の基底関数を用いることで、より多様なクラスの関数を得ることができる。\n",
    "\n",
    "N個の観測値と対応する目的値が与えられた場合、新しい入力$x$に対応する$t$の値を予測することが目的である。最も単純な方法では、新しい入力$x$に対応する$t$の値の予測として機能する適切な関数$y(x)$を直接構築することができる。さらに一般的には、条件付き分布$p(t∣x)$をモデル化し、適切に選ばれた損失関数の期待値を最小化する方法で$t$の予測を行う。実数値変数の損失関数としてよく使用されるのが二乗損失で、その最適解は$t$の条件付き期待値で与えられる。"
   ]
  },
  {
   "cell_type": "markdown",
   "metadata": {},
   "source": [
    "## 3.1 線形基底関数モデル"
   ]
  },
  {
   "cell_type": "markdown",
   "metadata": {},
   "source": [
    "最も単純な線形回帰モデルは\n",
    "$$\n",
    "y(\\mathbf{x}, \\mathbf{w}) = w_0 + w_1x_1 + ... + w_Dx_D\n",
    "$$\n",
    "に関するものである。これは単に**線形回帰**と呼ばれる。\n",
    "\n",
    "これは表現能力が乏しくすぎるため、非線形な関数の線形結合を考える。\n",
    "$$\n",
    "y(\\mathbf{x}, \\mathbf{w}) = w_0 + \\sum_{j=0}^{M-1}{w_j\\phi{(\\mathbf{x})}}\n",
    "$$\n",
    "\n",
    "$\\phi{(\\mathbf{x})}$を**基底関数**と呼ぶ。\n",
    "\n",
    "パラメータ$w_0$はデータの任意の固定されたオフセット量を許容するものであり、**バイアスパラメータ**と呼ばれることがある。\n",
    "\n",
    "Chapter1で説明した多項式基底関数の制限の一つは、入力変数のグローバル関数であるため、入力空間の一部の変更が他のすべての部分に影響を与えることである。これは、入力空間を領域に分割し、各領域で異なる多項式を適合させることで解決でき、**スプライン関数**と呼ぶ。\n",
    "\n",
    "基底関数にはほかにもたくさんの選択肢があり、ガウス基底関数や、シグモイド基底関数などが挙げられる。どちらもパラメータ$w_j$がかかっているため正規化する必要はない。\n",
    "\n",
    "$$\n",
    "\\phi_j{(x)} = \n",
    "\\exp{\\left\\{ -\\frac{(x-\\mu_j)^2}{2\\sigma^2} \\right\\}}\\\\\n",
    "$$\n",
    "\n",
    "$$\n",
    "\\phi_j{(x)} = \n",
    "\\sigma{\\left( \\frac{x-\\mu_j}{s} \\right)}\\\\\n",
    "\\sigma{(a)} = \n",
    "\\frac{1}{1 + \\exp(-a)}\n",
    "$$\n",
    "\n",
    "以降の事項は基本的に基底関数の選択に依存しない。"
   ]
  },
  {
   "cell_type": "markdown",
   "metadata": {},
   "source": [
    "### 3.1.1 最尤推定と最小二乗法"
   ]
  },
  {
   "cell_type": "markdown",
   "metadata": {},
   "source": [
    "目的変数tが線形回帰モデルに以下で表される精度$\\beta$のガウスノイズがかかっているとすると\n",
    "\n",
    "$$\n",
    "\\epsilon = N(\\epsilon | 0, \\beta^{-1})\\\\\n",
    "t = y(\\mathbf{x}, \\mathbf{w}) + \\epsilon\n",
    "$$\n",
    "\n",
    "このとき、tは平均$y(\\mathbf{x}, \\mathbf{w})$、精度$\\beta$のガウス分布で表すことができる。\n",
    "\n",
    "$$\n",
    "p(t|\\mathbf{x}, \\mathbf{w}, \\beta) = \n",
    "N(t|y(\\mathbf{x}, \\mathbf{w}), \\beta^{-1}) = \n",
    "N(t | \\mathbf{w}^T \\phi{(\\mathbf{x})}, \\beta^{-1})\n",
    "$$\n",
    "\n",
    "次に独立に生成された、N個の入力値と目的値について考えると、尤度関数は\n",
    "$$\n",
    "p(\\mathbf{t} | \\mathbf{X}, \\mathbf{w}, \\beta) = \n",
    "\\prod_{n=1}^N{N(t_n|\\mathbf{w}^T\\phi{(\\mathbf{x}_n)}, \\beta^{-1})}\n",
    "$$\n",
    "\n"
   ]
  },
  {
   "cell_type": "markdown",
   "metadata": {},
   "source": []
  },
  {
   "cell_type": "code",
   "execution_count": null,
   "metadata": {},
   "outputs": [],
   "source": []
  }
 ],
 "metadata": {
  "kernelspec": {
   "display_name": ".venv",
   "language": "python",
   "name": "python3"
  },
  "language_info": {
   "name": "python",
   "version": "3.9.13"
  },
  "orig_nbformat": 4
 },
 "nbformat": 4,
 "nbformat_minor": 2
}
